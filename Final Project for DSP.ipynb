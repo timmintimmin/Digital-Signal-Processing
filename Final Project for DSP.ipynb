{
 "cells": [
  {
   "cell_type": "code",
   "execution_count": null,
   "metadata": {},
   "outputs": [],
   "source": [
    "# Simple Flanger\n",
    "x, sr = sf.read('input/sv.wav')\n",
    "x = LinearWrap(x)\n",
    "\n",
    "output = 'output/sv_simpleFlanger.wav'\n",
    "\n",
    "fmod = 0.2\n",
    "A = int(0.002 * sr)\n",
    "M = int(0.002 * sr)\n",
    "BL = 0.7\n",
    "FF = 0.7\n",
    "\n",
    "if A > M:\n",
    "    raise RuntimeError(\"Amplitude of vibrato too high for delay length\")\n",
    "\n",
    "maxDelaySamps = M + A + 2 # Probably don't need the 2 here, but being safe\n",
    "outputSamps = len(x) + maxDelaySamps\n",
    "y = np.zeros(outputSamps)\n",
    "ringBuf = LinearRingBuffer(maxDelaySamps)\n",
    "deltaPhi = fmod/sr\n",
    "phi = 0\n",
    "\n",
    "for i in range(outputSamps):\n",
    "    s = x[i]\n",
    "    ringBuf.pushSample(s)\n",
    "    delaySamps = M + int(math.sin(2 * math.pi * phi) * A)\n",
    "    y[i] = s * BL + ringBuf.delayedSample(delaySamps) * FF\n",
    "\n",
    "    phi = phi + deltaPhi\n",
    "    while phi >= 1:\n",
    "        phi -= 1\n",
    "\n",
    "sf.write(output, y, sr)\n",
    "Audio(output)"
   ]
  },
  {
   "cell_type": "code",
   "execution_count": null,
   "metadata": {},
   "outputs": [],
   "source": [
    "# Simple Chorus\n",
    "x, sr = sf.read('input/sv.wav')\n",
    "x = LinearWrap(x)\n",
    "\n",
    "output = 'output/sv_simpleChorus.wav'\n",
    "\n",
    "fmod = 1.5\n",
    "A = int(0.002 * sr)\n",
    "M = int(0.002 * sr)\n",
    "BL = 1.0\n",
    "FF = 0.7\n",
    "\n",
    "if A > M:\n",
    "    raise RuntimeError(\"Amplitude of vibrato too high for delay length\")\n",
    "\n",
    "maxDelaySamps = M + A + 2 # Probably don't need the 2 here, but being safe\n",
    "outputSamps = len(x) + maxDelaySamps\n",
    "y = np.zeros(outputSamps)\n",
    "ringBuf = LinearRingBuffer(maxDelaySamps)\n",
    "deltaPhi = fmod/sr\n",
    "phi = 0\n",
    "\n",
    "for i in range(outputSamps):\n",
    "    s = x[i]\n",
    "    ringBuf.pushSample(s)\n",
    "    delaySamps = M + int(math.sin(2 * math.pi * phi) * A)\n",
    "    y[i] = s * BL + ringBuf.delayedSample(delaySamps) * FF\n",
    "\n",
    "    phi = phi + deltaPhi\n",
    "    while phi >= 1:\n",
    "        phi -= 1\n",
    "\n",
    "sf.write(output, y, sr)\n",
    "Audio(output)"
   ]
  },
  {
   "cell_type": "code",
   "execution_count": null,
   "metadata": {},
   "outputs": [],
   "source": []
  }
 ],
 "metadata": {
  "kernelspec": {
   "display_name": "Python 3",
   "language": "python",
   "name": "python3"
  },
  "language_info": {
   "codemirror_mode": {
    "name": "ipython",
    "version": 3
   },
   "file_extension": ".py",
   "mimetype": "text/x-python",
   "name": "python",
   "nbconvert_exporter": "python",
   "pygments_lexer": "ipython3",
   "version": "3.8.5"
  }
 },
 "nbformat": 4,
 "nbformat_minor": 4
}
